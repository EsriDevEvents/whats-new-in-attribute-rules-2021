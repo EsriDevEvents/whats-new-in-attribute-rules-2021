{
 "cells": [
  {
   "cell_type": "code",
   "execution_count": 2,
   "metadata": {},
   "outputs": [
    {
     "data": {
      "text/html": [
       "<h2>Output</h2>C:\\Users\\supr8060\\Documents\\DevSum_2021\\AttributeRules_DevSummit2021\\demo1.gdb<h2>Messages</h2>Start Time: Wednesday, January 27, 2021 2:58:09 PM<br/>Succeeded at Wednesday, January 27, 2021 2:58:10 PM (Elapsed Time: 0.46 seconds)<br/><style>.rendered_html td, .rendered_html th {text-align: left;}.rendered_html tbody {border: 1px solid black;}</style>"
      ],
      "text/plain": [
       "<Result 'C:\\\\Users\\\\supr8060\\\\Documents\\\\DevSum_2021\\\\AttributeRules_DevSummit2021\\\\demo1.gdb'>"
      ]
     },
     "execution_count": 2,
     "metadata": {},
     "output_type": "execute_result"
    }
   ],
   "source": [
    "arcpy.management.EvaluateRules(r\"C:\\Users\\supr8060\\Documents\\DevSum_2021\\AttributeRules_DevSummit2021\\demo1.gdb\", \"CALCULATION_RULES;VALIDATION_RULES\", \"DEFAULT\", \"ASYNC\")"
   ]
  },
  {
   "cell_type": "code",
   "execution_count": null,
   "metadata": {},
   "outputs": [],
   "source": []
  }
 ],
 "metadata": {
  "kernelspec": {
   "display_name": "ArcGISPro",
   "language": "Python",
   "name": "python3"
  },
  "language_info": {
   "file_extension": ".py",
   "name": "python",
   "version": "3"
  }
 },
 "nbformat": 4,
 "nbformat_minor": 2
}
